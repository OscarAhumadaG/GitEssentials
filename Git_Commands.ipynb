{
 "cells": [
  {
   "cell_type": "markdown",
   "id": "54943568-e3b3-4d58-88f7-27fcb6e520f8",
   "metadata": {},
   "source": [
    "## Console Commands"
   ]
  },
  {
   "cell_type": "code",
   "execution_count": null,
   "id": "0b91be16-e079-4b3c-b023-fa9777ac0ced",
   "metadata": {},
   "outputs": [],
   "source": [
    "# Lists the contents of the current directory.\n",
    "```bash\n",
    "ls\n",
    "```\n",
    "# Changes the current working directory to the \"Desktop\" directory.\n",
    "```bash\n",
    "cd Desktop\n",
    "```\n",
    "# Moves up one level in the directory hierarchy to the parent directory.\n",
    "```bash\n",
    "cd ..\n",
    "```\n",
    "# Prints the full path of the current working directory.\n",
    "```bash\n",
    "pwd\n",
    "```\n",
    "\n",
    "\n",
    "# Creating a directory\n",
    "```bash\n",
    "mkdir \"HelloGit\"\n",
    "```\n",
    "\n",
    "# Creating a directoriy\n",
    "```bash\n",
    "charm .\n",
    "```\n",
    "# Creating a directoriy\n",
    "```bash\n",
    "ni hellogit.py\n"
   ]
  },
  {
   "cell_type": "markdown",
   "id": "b9f0c57d-204e-4a7b-973b-1965ea919c7e",
   "metadata": {},
   "source": [
    "## Git Commands"
   ]
  },
  {
   "cell_type": "code",
   "execution_count": null,
   "id": "88bb3ebf-23d8-40ea-83a2-0154efd66fa2",
   "metadata": {},
   "outputs": [],
   "source": [
    "```bash\n",
    "git config --global user.name \"OscarAhumadaG\"\n",
    "```\n",
    "\n",
    "\n",
    "```bash\n",
    "git --version\n",
    "```\n",
    "\n",
    "\n",
    "```bash\n",
    "git --help\n",
    "git -h\n",
    "```\n",
    "\n",
    "```bash\n",
    "git  branch -m main\n",
    "```"
   ]
  },
  {
   "cell_type": "markdown",
   "id": "d9fbf53a-a8eb-45d4-825c-22df43b4fc10",
   "metadata": {},
   "source": [
    "```bash\n",
    "git add .\n",
    "```\n",
    "\n",
    "```bash\n",
    "git branch -M main\n",
    "```\n",
    "\n",
    "```bash\n",
    "git commit -m \"message\"\n",
    "```\n",
    "\n",
    "```bash\n",
    "git push -u origin main\n",
    "```\n",
    "\n",
    "```bash\n",
    "git commit -a\n",
    "```\n"
   ]
  },
  {
   "cell_type": "code",
   "execution_count": null,
   "id": "819970d7-71d1-4ac5-a33f-056d6480ec3a",
   "metadata": {},
   "outputs": [],
   "source": []
  }
 ],
 "metadata": {
  "kernelspec": {
   "display_name": "Python 3 (ipykernel)",
   "language": "python",
   "name": "python3"
  },
  "language_info": {
   "codemirror_mode": {
    "name": "ipython",
    "version": 3
   },
   "file_extension": ".py",
   "mimetype": "text/x-python",
   "name": "python",
   "nbconvert_exporter": "python",
   "pygments_lexer": "ipython3",
   "version": "3.9.18"
  }
 },
 "nbformat": 4,
 "nbformat_minor": 5
}
