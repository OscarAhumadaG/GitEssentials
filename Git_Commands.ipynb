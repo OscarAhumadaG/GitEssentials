{
 "cells": [
  {
   "cell_type": "markdown",
   "id": "54943568-e3b3-4d58-88f7-27fcb6e520f8",
   "metadata": {},
   "source": [
    "## Console Commands"
   ]
  },
  {
   "cell_type": "code",
   "execution_count": null,
   "id": "0b91be16-e079-4b3c-b023-fa9777ac0ced",
   "metadata": {},
   "outputs": [],
   "source": [
    "#### Lists the contents of the current directory.\n",
    "ls\n",
    "\n",
    "#### Changes the current working directory to the \"Desktop\" directory.\n",
    "cd Desktop\n",
    "\n",
    "#### Moves up one level in the directory hierarchy to the parent directory.\n",
    "cd ..\n",
    "\n",
    "#### Prints the full path of the current working directory.\n",
    "pwd\n",
    "\n",
    "#### Creates a new directory named \"HelloGit\".\n",
    "mkdir \"HelloGit\"\n",
    "\n",
    "#### Opens the current directory in Visual Studio Code (or another editor if \"charm\" is configured).\n",
    "charm .\n",
    "\n",
    "#### Creates a new file named \"hellogit.py\".\n",
    "ni hellogit.py\n"
   ]
  },
  {
   "cell_type": "markdown",
   "id": "b9f0c57d-204e-4a7b-973b-1965ea919c7e",
   "metadata": {},
   "source": [
    "## Git Commands"
   ]
  },
  {
   "cell_type": "markdown",
   "source": [
    "#### Configures the global Git username as \"OscarAhumadaG\".\n",
    "git config --global user.name \"OscarAhumadaG\"\n",
    "\n",
    "#### Displays the currently installed version of Git.\n",
    "git --version\n",
    "\n",
    "#### Displays help information for Git commands. The second command is a shorthand version of the first.\n",
    "git --help\n",
    "git -h\n",
    "\n",
    "#### Renames the current branch to \"main\".\n",
    "git branch -m main\n",
    "\n",
    "#### Displays the commit history in reverse chronological order.\n",
    "git log\n",
    "\n",
    "#### Displays the commit history with a graphical representation of branches.\n",
    "git log --graph\n",
    "\n",
    "#### Displays the commit history as a graph with each commit on a single line.\n",
    "git log --graph --pretty=oneline\n",
    "\n",
    "#### Displays the commit history with a graph, decorations, all branches, and each commit on a single line.\n",
    "git log --graph --decorate --all --oneline\n",
    "\n",
    "#### This log also shows the history of reference changes in the repository, like commits, checkouts, and resets.\n",
    "git reflog\n"
   ],
   "metadata": {
    "collapsed": false
   },
   "id": "f1f9abaf4c4a04f"
  },
  {
   "cell_type": "markdown",
   "id": "d9fbf53a-a8eb-45d4-825c-22df43b4fc10",
   "metadata": {},
   "source": [
    "#### Stages all changes (new files, modifications, deletions) in the current directory and its subdirectories for the next commit.\n",
    "git add .\n",
    "\n",
    "#### Stages the specific file 'hello_git.py' for the next commit. This is useful if you want to commit changes to specific files.\n",
    "git add hello_git.py\n",
    "\n",
    "#### Renames the current branch to 'main'. This is often used to rename the default branch from 'master' to 'main'.\n",
    "git branch -m main\n",
    "\n",
    "#### Commits the staged changes with a message describing what was changed. The message should be meaningful to describe the commit.\n",
    "git commit -m \"message\"\n",
    "\n",
    "#### Pushes the 'main' branch to the remote repository ('origin') and sets the upstream reference, linking the local branch with the remote branch.\n",
    "git push -u origin main\n",
    "\n",
    "#### Automatically stages all modified and deleted files, then commits them with an editor prompt to enter a commit message. Note: new files are not included unless explicitly added with `git add`.\n",
    "git commit -a\n",
    "\n",
    "#### Unstages all changes that have been added to the staging area (but keeps the changes in the working directory). This is useful if you want to undo the 'git add' command.\n",
    "git reset\n",
    "\n",
    "git reset --hard\n",
    "\n",
    "#### Switches to an existing branch named '<name>', or restores files from a branch or commit. If the branch doesn't exist, you might need to use `git checkout -b <name>` to create and switch to a new branch.\n",
    "git checkout <name>\n",
    "\n",
    "#### Creates a global Git alias called 'tree', which shows a visual representation of the commit history with branch and tag decorations, making it easier to understand the branch structure.\n",
    "git config --global alias.tree \"log --graph --decorate --all --oneline\"\n",
    "\n",
    "#### Uses the previously defined 'tree' alias to display the commit history in a concise and visually appealing way.\n",
    "git tree\n",
    "\n",
    "#### Creates a new '.gitignore' file in the current directory. This file is used to specify files and directories that Git should ignore.\n",
    "ni .gitignore\n",
    "\n",
    "#### This is a line to be added inside the '.gitignore' file. It tells Git to ignore all files named 'file_name' in all directories.\n",
    "**/.file_name\n",
    "\n",
    "#### Shows the differences between the working directory and the staging area, or between commits. It's useful for reviewing changes before committing them.\n",
    "git diff\n",
    "\n",
    "#### \n",
    "git tag\n",
    "\n",
    "#### \n",
    " git tag clase_1\n",
    " \n",
    " #### \n",
    "git checkout tags/clase_1\n",
    "\n",
    "####\n",
    "git checkout main\n",
    "\n",
    "####\n",
    "git branch -f main HEAD\n"
   ]
  },
  {
   "cell_type": "markdown",
   "source": [
    "# Branches\n",
    "\n",
    "#### \n",
    "git branch login\n",
    "\n",
    "\n",
    "#### \n",
    "git switch login "
   ],
   "metadata": {
    "collapsed": false
   },
   "id": "cddab952be824d2c"
  }
 ],
 "metadata": {
  "kernelspec": {
   "display_name": "Python 3 (ipykernel)",
   "language": "python",
   "name": "python3"
  },
  "language_info": {
   "codemirror_mode": {
    "name": "ipython",
    "version": 3
   },
   "file_extension": ".py",
   "mimetype": "text/x-python",
   "name": "python",
   "nbconvert_exporter": "python",
   "pygments_lexer": "ipython3",
   "version": "3.9.18"
  }
 },
 "nbformat": 4,
 "nbformat_minor": 5
}
